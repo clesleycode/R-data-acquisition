{
 "cells": [
  {
   "cell_type": "markdown",
   "metadata": {},
   "source": [
    "## Introduction\n",
    "\n",
    "All data problems begin with a question and end with a narrative construct that provides a clear answer. From there, the next step is getting your data. As a Data Scientist, you'll spend an incredible amount of time and skills on acquiring, prepping, cleaning, and normalizing your data. In this tutorial, we'll review some of the best tools used in the rhelm of data acquisition. \n",
    "\n",
    "But first, let's go into the differences between Data Acquisition, Preparation, and Cleaning. \n",
    "\n",
    "### Data Acquisition\n",
    "\n",
    "Data Acquisition is the process of getting your data, hence the term <i>acquisition</i>. Data doesn't come out of nowhere, so the very first step of any data science problem is going to be getting the data in the first place. \n",
    "\n",
    "### Data Preparation\n",
    "\n",
    "Once you have the data, it might not be in the best format to work with. You might have scraped a bunch of data from a website, but need it in the form of a dataframe to work with it in an easier manner. This process is called data preparation - preparing your data in a format that's easiest to form with.\n",
    "\n",
    "### Data Cleaning\n",
    "\n",
    "Once your data is being stored or handled in a proper manner, that might still not be enough. You might have missing values or values that need normalizing. These inconsistencies that you fix before analysis refers to data cleaning. \n"
   ]
  },
  {
   "cell_type": "markdown",
   "metadata": {},
   "source": [
    "## Reading, Writing, and Handling Data Files\n",
    "\n",
    "The simplest way of acquiring data is downloading a file - either from a website, straight from your desktop, or elsewhere. Once the data is downloaded, you'll open the files for reading and possible writing. \n",
    "\n",
    "### CSV files\n",
    "\n",
    "Very often, you'll have to work with CSV files. A csv file is a comma-separated values file stores tabular data in plain text. \n",
    "\n",
    "In the following examples, we'll be working with NBA data, which you can download from [here](https://github.com/ByteAcademyCo/data-acq/blob/master/nba.csv)."
   ]
  },
  {
   "cell_type": "markdown",
   "metadata": {},
   "source": [
    "### R Programming\n",
    "\n",
    "We've just gone through how to read CSV files in Python. But how do you do this in R? Pretty simply, actually. R has built in functions to handle CSV files, so you don't even have to use a library to accomplish what we just did with Python."
   ]
  },
  {
   "cell_type": "code",
   "execution_count": 2,
   "metadata": {
    "collapsed": true
   },
   "outputs": [],
   "source": [
    "data <- read.csv(\"nba.csv\")"
   ]
  },
  {
   "cell_type": "markdown",
   "metadata": {},
   "source": [
    "### JSON\n",
    "\n",
    "Because HTTP is a protocol for transferring text, the data you request through a web API (which we'll go through soon enough) needs to be serialized into a string format, usually in JavaScript Object Notation (JSON). JavaScript objects look quite similar to Python dicts, which makes their string representations easy to interpret:\n",
    "\n",
    "```\n",
    "{ \n",
    " \"name\" : \"Lesley Cordero\",\n",
    " \"job\" : \"Data Scientist\",\n",
    " \"topics\" : [ \"data\", \"science\", \"data science\"] \n",
    "}\n",
    "```"
   ]
  },
  {
   "cell_type": "markdown",
   "metadata": {},
   "source": [
    "#### jsonlite\n",
    "\n",
    "Now, in R, working with JSON can be a bit more complicated. Unlike Python, R doesn't have a data type that resembles JSON closely (dictionaries in Python). So we have to work with what we do have, which is lists, vectors, and matrices.\n",
    "\n",
    "Working with the same data from the Python example, we have:\n"
   ]
  },
  {
   "cell_type": "code",
   "execution_count": 3,
   "metadata": {
    "collapsed": true
   },
   "outputs": [],
   "source": [
    "serialized = '{ \n",
    " \"name\" : \"Lesley Cordero\",\n",
    " \"job\" : \"Data Scientist\",\n",
    " \"topics\" : [ \"data\", \"science\", \"data science\"] \n",
    "} '"
   ]
  },
  {
   "cell_type": "markdown",
   "metadata": {},
   "source": [
    "Now, if we want to properly load this into R, we'll be using the `jsonlite` library. "
   ]
  },
  {
   "cell_type": "code",
   "execution_count": 1,
   "metadata": {
    "collapsed": true
   },
   "outputs": [],
   "source": [
    "library(\"jsonlite\")"
   ]
  },
  {
   "cell_type": "markdown",
   "metadata": {},
   "source": [
    "Once we've loaded the library, we'll use the `fromJSON` function to convert this into a data type R is more familiar with: <b>lists</b>.\n"
   ]
  },
  {
   "cell_type": "code",
   "execution_count": 4,
   "metadata": {
    "collapsed": true
   },
   "outputs": [],
   "source": [
    "l <- fromJSON(serialized, simplifyVector=TRUE)"
   ]
  },
  {
   "cell_type": "markdown",
   "metadata": {},
   "source": [
    "Notice that `simplifyVector` is set to `TRUE`. When simplifyMatrix is enabled, JSON arrays containing equal-length sub-arrays simplify into a matrix. \n",
    "\n",
    "And to convert this back to JSON, we type:"
   ]
  },
  {
   "cell_type": "code",
   "execution_count": 5,
   "metadata": {},
   "outputs": [
    {
     "data": {
      "text/plain": [
       "{\n",
       "  \"name\": [\"Lesley Cordero\"],\n",
       "  \"job\": [\"Data Scientist\"],\n",
       "  \"topics\": [\"data\", \"science\", \"data science\"]\n",
       "} "
      ]
     },
     "metadata": {},
     "output_type": "display_data"
    }
   ],
   "source": [
    "toJSON(l, pretty=TRUE)\n"
   ]
  },
  {
   "cell_type": "markdown",
   "metadata": {},
   "source": [
    "## APIs\n",
    "\n",
    "There are several ways to extract information from the web. Use of APIs, Application Program Interfaces, is probably the best way to extract data from a website. APIs are especially great if your data is constantly changing. Many websites have public APIs providing data feeds via JSON or some other format. \n",
    "\n",
    "So far we've seen APIs with Python. Let's take a look on how you can use R to do some simple API calls. We'll be working with the `httr` library and the EPDB API, which we load in the next three lines:\n",
    "\n",
    "### GET request\n",
    "\n",
    "There are many different types of requests. The most simplest is a GET request. GET requests are used to retrieve your data. In Python, you can make a get request to get the latest position of the international space station from the `OpenNotify` API.\n"
   ]
  },
  {
   "cell_type": "code",
   "execution_count": 1,
   "metadata": {
    "collapsed": true
   },
   "outputs": [],
   "source": [
    "library(\"httr\")\n",
    "url  <- \"http://api.epdb.eu\"\n",
    "path <- \"eurlex/directory_code\""
   ]
  },
  {
   "cell_type": "markdown",
   "metadata": {},
   "source": [
    "With `httr`, you can make GET requests, like this:\n"
   ]
  },
  {
   "cell_type": "code",
   "execution_count": 3,
   "metadata": {},
   "outputs": [
    {
     "name": "stdout",
     "output_type": "stream",
     "text": [
      "Response [http://api.epdb.eu/eurlex/directory_code/]\n",
      "  Date: 2017-06-07 19:44\n",
      "  Status: 200\n",
      "  Content-Type: application/json\n",
      "  Size: 121 kB\n",
      "\n"
     ]
    }
   ],
   "source": [
    "raw.result <- GET(url=url, path=path)\n",
    "print(raw.result)"
   ]
  },
  {
   "cell_type": "markdown",
   "metadata": {},
   "source": [
    "Notice the 'status' label? Great, that'll bring us to status codes. "
   ]
  },
  {
   "cell_type": "markdown",
   "metadata": {},
   "source": [
    "### Status Codes\n",
    "\n",
    "What we just printed was a status code of `200`. Status codes are returned with every request made to a web server and indicate what happened with a request. The following are the most common types of status codes:\n",
    "\n",
    "- `200` - everything worked as planned!\n",
    "- `301` - the server is redirecting you to anotehr endpoint (domain).\n",
    "- `400` - it means you made a bad request by not sending the right data or some other error.\n",
    "- `401` - you're not authenticated, which means you don't have access to the server.\n",
    "- `403` - this means access is forbidden. \n",
    "- `404` - whatever you tried to access wasn't found. \n",
    "\n",
    "Notice that if we try to access something that doesn't exist, we'll get a `404` error:"
   ]
  },
  {
   "cell_type": "code",
   "execution_count": 5,
   "metadata": {},
   "outputs": [
    {
     "data": {
      "text/html": [
       "200"
      ],
      "text/latex": [
       "200"
      ],
      "text/markdown": [
       "200"
      ],
      "text/plain": [
       "[1] 200"
      ]
     },
     "metadata": {},
     "output_type": "display_data"
    }
   ],
   "source": [
    "raw.result$status_code"
   ]
  },
  {
   "cell_type": "markdown",
   "metadata": {},
   "source": [
    "Let's try a get request where the status code returned is `404`. \n"
   ]
  },
  {
   "cell_type": "code",
   "execution_count": 5,
   "metadata": {},
   "outputs": [
    {
     "name": "stdout",
     "output_type": "stream",
     "text": [
      "400\n"
     ]
    }
   ],
   "source": [
    "#python\n",
    "response = requests.get(\"http://api.open-notify.org/iss-pass.json\")\n",
    "print(response.status_code)"
   ]
  },
  {
   "cell_type": "markdown",
   "metadata": {},
   "source": [
    "Like we mentioned before, this indicated a bad request. This is because it requires two parameters, as you can see [here](http://open-notify.org/Open-Notify-API/ISS-Pass-Times/). \n",
    "\n",
    "We set these with an optional `params` variable. You can opt to make a dictionary and then pass it into the `requests.get` function, like follows:\n"
   ]
  },
  {
   "cell_type": "code",
   "execution_count": 6,
   "metadata": {
    "collapsed": true
   },
   "outputs": [],
   "source": [
    "# python\n",
    "parameters = {\"lat\": 40.71, \"lon\": -74}\n",
    "response = requests.get(\"http://api.open-notify.org/iss-pass.json\", params=parameters)"
   ]
  },
  {
   "cell_type": "markdown",
   "metadata": {},
   "source": [
    "You can skip the variable portion with the following instead: \n"
   ]
  },
  {
   "cell_type": "code",
   "execution_count": 8,
   "metadata": {},
   "outputs": [
    {
     "name": "stdout",
     "output_type": "stream",
     "text": [
      "b'{\\n  \"message\": \"success\", \\n  \"request\": {\\n    \"altitude\": 100, \\n    \"datetime\": 1496864501, \\n    \"latitude\": 40.71, \\n    \"longitude\": -74.0, \\n    \"passes\": 5\\n  }, \\n  \"response\": [\\n    {\\n      \"duration\": 645, \\n      \"risetime\": 1496866724\\n    }, \\n    {\\n      \"duration\": 591, \\n      \"risetime\": 1496872564\\n    }, \\n    {\\n      \"duration\": 550, \\n      \"risetime\": 1496878434\\n    }, \\n    {\\n      \"duration\": 609, \\n      \"risetime\": 1496884248\\n    }, \\n    {\\n      \"duration\": 638, \\n      \"risetime\": 1496890035\\n    }\\n  ]\\n}\\n'\n"
     ]
    }
   ],
   "source": [
    "# python\n",
    "response = requests.get(\"http://api.open-notify.org/iss-pass.json?lat=40.71&lon=-74\")\n",
    "print(response.content)"
   ]
  },
  {
   "cell_type": "markdown",
   "metadata": {},
   "source": [
    "This is pretty messy, but luckily, we can clean this up into JSON with:\n"
   ]
  },
  {
   "cell_type": "code",
   "execution_count": 10,
   "metadata": {},
   "outputs": [
    {
     "name": "stdout",
     "output_type": "stream",
     "text": [
      "{'message': 'success', 'request': {'altitude': 100, 'datetime': 1496864501, 'latitude': 40.71, 'longitude': -74.0, 'passes': 5}, 'response': [{'duration': 645, 'risetime': 1496866724}, {'duration': 591, 'risetime': 1496872564}, {'duration': 550, 'risetime': 1496878434}, {'duration': 609, 'risetime': 1496884248}, {'duration': 638, 'risetime': 1496890035}]}\n"
     ]
    }
   ],
   "source": [
    "# python\n",
    "data = response.json()\n",
    "print(data)"
   ]
  },
  {
   "cell_type": "markdown",
   "metadata": {},
   "source": [
    "Now let's pull the name entities from this GET request:\n"
   ]
  },
  {
   "cell_type": "code",
   "execution_count": 4,
   "metadata": {},
   "outputs": [
    {
     "name": "stdout",
     "output_type": "stream",
     "text": [
      " [1] \"url\"         \"status_code\" \"headers\"     \"all_headers\" \"cookies\"    \n",
      " [6] \"content\"     \"date\"        \"times\"       \"request\"     \"handle\"     \n"
     ]
    }
   ],
   "source": [
    "# python\n",
    "print(names(raw.result))"
   ]
  },
  {
   "cell_type": "markdown",
   "metadata": {},
   "source": [
    "You can extract each of the entitites above with the `$` character, like this:"
   ]
  },
  {
   "cell_type": "markdown",
   "metadata": {},
   "source": [
    "## Web Scraping\n",
    "\n",
    "Web Scraping tools are specifically developed for extracting information from websites. Web Scraping mostly focuses on the transformation of unstructured data (HTML format) on the web into structured data (database or spreadsheet).\n",
    "\n",
    "### HTML\n",
    "\n",
    "While performing web scraping, we deal with html tags. Thus, we must have good understanding of them. Below is the basic syntax of HTML:\n",
    "\n",
    "``` html\n",
    "<!DOCTYPE html> \n",
    "<html>\n",
    "\t<body>\n",
    "\t\t<h1> First Heading </h1>\n",
    "\t\t<p> First Paragraph </p>\n",
    "\t</body>\n",
    "</html>\n",
    "```\n",
    "Let's break down each of these tags:\n",
    "\n",
    "1. `<!DOCTYPE html>`: This is the initial HTML declaration.\n",
    "2. `<html>`: The HTML document is going to be contained within this tag.\n",
    "3. `<body>`: This is where the visible portion of the HTML document is between. \n",
    "4. `<h1>`: This is an HTML heading.\n",
    "5. `<p>`: HTML paragraphs are defined here. \n",
    "\n",
    "We've also got the following tags:\n",
    "\n",
    "- `<a>`: These always define HTML links, such as with \n",
    "``` HTML\n",
    "<a href=\"http://byteacademy.co\">This is Byte Academy's website!</a>\n",
    "```\n",
    "- `<table>`: HTML tables are defined with this tag, such as:\n",
    "*Note that the `<tr>`are rows and `<td>` defines columns. \n",
    "``` HTML\n",
    "<table style=\"width:100%\">\n",
    "\t<tr>\n",
    "\t\t<td>Lesley</td>\n",
    "\t\t<td>Cordero</td>\n",
    "\t\t<td>24</td>\n",
    "\t</tr>\n",
    "\t<tr>\n",
    "\t\t<td>Helen</td>\n",
    "\t\t<td>Chen</td>\n",
    "\t\t<td>22</td>\n",
    "\t</tr>\n",
    "</table>\n",
    "```\n",
    "\n",
    "This will yield the following:\n",
    "\n",
    "```\n",
    "Lesley\t\tCordero\t\t24\n",
    "Helen\t\tChen\t\t22\n",
    "```\n",
    "- `<li>` initializes the beginning of a list. `<ul>` and `<ol>` each define whether it's an unordered list or an ordered list. "
   ]
  },
  {
   "cell_type": "markdown",
   "metadata": {},
   "source": [
    "### rvest\n",
    "\n",
    "Now we'll try scraping a website with R. R has a library called `rvest` which allows you scrape the HTML from any webpage. In the following two lines, we call this library and take the HTML with the `read_html` function. "
   ]
  },
  {
   "cell_type": "code",
   "execution_count": 1,
   "metadata": {},
   "outputs": [
    {
     "name": "stderr",
     "output_type": "stream",
     "text": [
      "Loading required package: xml2\n"
     ]
    }
   ],
   "source": [
    "library(rvest)\n",
    "movie <- read_html(\"http://www.imdb.com/title/tt1490017/\")"
   ]
  },
  {
   "cell_type": "markdown",
   "metadata": {},
   "source": [
    "Let's now scape some information from the website. `html_nodes` easily extract pieces out of HTML documents using css selectors while `html_text` extracts attributes, text, and tag name from the HTML. Using these two functions, we can extract the rating for this movie. \n"
   ]
  },
  {
   "cell_type": "code",
   "execution_count": 3,
   "metadata": {},
   "outputs": [
    {
     "name": "stdout",
     "output_type": "stream",
     "text": [
      "[1] 7.8\n"
     ]
    }
   ],
   "source": [
    "rating <- movie %>%\n",
    "    html_nodes(\"strong span\") %>%\n",
    "    html_text() %>%\n",
    "    as.numeric()\n",
    "print(rating)"
   ]
  },
  {
   "cell_type": "markdown",
   "metadata": {},
   "source": [
    "Next, let's get the cast of the movie:\n"
   ]
  },
  {
   "cell_type": "code",
   "execution_count": 5,
   "metadata": {},
   "outputs": [
    {
     "name": "stdout",
     "output_type": "stream",
     "text": [
      " [1] \"Will Arnett\"     \"Elizabeth Banks\" \"Craig Berry\"     \"Alison Brie\"    \n",
      " [5] \"David Burrows\"   \"Anthony Daniels\" \"Charlie Day\"     \"Amanda Farinos\" \n",
      " [9] \"Keith Ferguson\"  \"Will Ferrell\"    \"Will Forte\"      \"Dave Franco\"    \n",
      "[13] \"Morgan Freeman\"  \"Todd Hansen\"     \"Jonah Hill\"     \n"
     ]
    }
   ],
   "source": [
    "cast <- movie %>%\n",
    "    html_nodes(\"#titleCast .itemprop span\") %>%\n",
    "    html_text()\n",
    "print(cast)"
   ]
  },
  {
   "cell_type": "markdown",
   "metadata": {},
   "source": [
    "And lastly, we extract the first movie review on the site:\n"
   ]
  },
  {
   "cell_type": "code",
   "execution_count": 6,
   "metadata": {},
   "outputs": [
    {
     "name": "stdout",
     "output_type": "stream",
     "text": [
      "[1] \"This film has great animation and a great story, it has an all star voice cast example Morgan freeman and will Ferrell. This film will be up on the shelve as one of the greatest films ever animated, ever thought about and ever written. When I was a kid playing with Lego I never thought to my self that they will make a film on it now that they have all my Christmases have come at once. Cant wait for the special features on blue ray. This movie will be up there with toy story 1 2 and 3 , the lion king , frozen and wreck it Ralph. The power of good films are in Lego hands people are genius congrats to all the Oscars for the road ahead\"\n"
     ]
    }
   ],
   "source": [
    "review <- movie %>%\n",
    "    html_nodes(\"#titleUserReviewsTeaser p\") %>%\n",
    "    html_text()\n",
    "print(review)"
   ]
  },
  {
   "cell_type": "markdown",
   "metadata": {},
   "source": [
    "## Advanced Web Scraping\n",
    "\n",
    "\n",
    "### Sitemaps\n",
    "\n",
    "The Sitemaps protocol allows a webmaster to inform search engines about URLs on a website that are available for crawling. A Sitemap is an XML file that lists the URLs for a site. It allows webmasters to include additional information about each URL: when it was last updated, how often it changes, and how important it is in relation to other URLs in the site. This allows search engines to crawl the site more intelligently. Sitemaps are a URL inclusion protocol and complement robots.txt, a URL exclusion protocol.\n",
    "\n",
    "An example of what a sample XML sitemap might look like is:\n",
    "\n",
    "``` \n",
    "<?xml version=\"1.0\" encoding=\"UTF-8\"?>\n",
    "\n",
    "<urlset xmlns=\"http://www.sitemaps.org/schemas/sitemap/0.9\">\n",
    "\n",
    "   <url>\n",
    "\n",
    "      <loc>http://www.example.com/</loc>\n",
    "\n",
    "      <lastmod>2005-01-01</lastmod>\n",
    "\n",
    "      <changefreq>monthly</changefreq>\n",
    "\n",
    "      <priority>0.8</priority>\n",
    "\n",
    "   </url>\n",
    "\n",
    "</urlset> \n",
    "```\n",
    "\n",
    "### Estimating Website Size\n",
    "\n",
    "The size of the website will affect how you crawl it. If the website is just a few hundred URLs, such as our example website, efficiency is not important. However, if the website has over a million web pages, downloading each sequentially would take months. "
   ]
  },
  {
   "cell_type": "markdown",
   "metadata": {},
   "source": [
    "### Regular Expressions\n",
    "\n",
    "A regular expression is a sequence of characters that define a string.\n",
    "\n",
    "#### Simplest Form\n",
    "\n",
    "The simplest form of a regular expression is a sequence of characters contained within <b>two backslashes</b>. For example, <i>python</i> would be  \n",
    "\n",
    "``` \n",
    "\\python\n",
    "```\n",
    "\n",
    "#### Case Sensitivity\n",
    "\n",
    "Regular Expressions are <b>case sensitive</b>, which means \n",
    "\n",
    "``` \n",
    "\\p and \\P\n",
    "```\n",
    "are distinguishable from eachother. This means <i>python</i> and <i>Python</i> would have to be represented differently, as follows: \n",
    "\n",
    "``` \n",
    "\\python and \\Python\n",
    "```\n",
    "\n",
    "We can check these are different by running:"
   ]
  },
  {
   "cell_type": "code",
   "execution_count": 1,
   "metadata": {},
   "outputs": [
    {
     "name": "stdout",
     "output_type": "stream",
     "text": [
      "False\n"
     ]
    }
   ],
   "source": [
    "import re\n",
    "re1 = re.compile('python')\n",
    "print(bool(re1.match('Python')))"
   ]
  },
  {
   "cell_type": "markdown",
   "metadata": {
    "collapsed": true
   },
   "source": [
    "#### Disjunctions\n",
    "\n",
    "If you want a regular expression to represent both <i>python</i> and <i>Python</i>, however, you can use <b>brackets</b> or the <b>pipe</b> symbol as the disjunction of the two forms. For example, \n",
    "``` \n",
    "[Pp]ython or \\Python|python\n",
    "```\n",
    "could represent either <i>python</i> or <i>Python</i>. Likewise, \n",
    "\n",
    "``` \n",
    "[0123456789]\n",
    "```\n",
    "would represent a single integer digit. The pipe symbols are typically used for interchangable strings, such as in the following example:\n",
    "\n",
    "```\n",
    "\\dog|cat\n",
    "```"
   ]
  },
  {
   "cell_type": "markdown",
   "metadata": {},
   "source": [
    "#### Ranges\n",
    "\n",
    "If we want a regular expression to express the disjunction of a range of characters, we can use a <b>dash</b>. For example, instead of the previous example, we can write \n",
    "\n",
    "``` \n",
    "[0-9]\n",
    "```\n",
    "Similarly, we can represent all characters of the alphabet with \n",
    "\n",
    "``` \n",
    "[a-z]\n",
    "```\n",
    "\n",
    "#### Exclusions\n",
    "\n",
    "Brackets can also be used to represent what an expression <b>cannot</b> be if you combine it with the <b>caret</b> sign. For example, the expression \n",
    "\n",
    "``` \n",
    "[^p]\n",
    "```\n",
    "represents any character, special characters included, but p."
   ]
  },
  {
   "cell_type": "markdown",
   "metadata": {},
   "source": [
    "#### Question Marks \n",
    "\n",
    "Question marks can be used to represent the expressions containing zero or one instances of the previous character. For example, \n",
    "\n",
    "``` \n",
    "<i>\\colou?r\n",
    "```\n",
    "represents either <i>color</i> or <i>colour</i>. Question marks are often used in cases of plurality. For example, \n",
    "\n",
    "``` \n",
    "<i>\\computers?\n",
    "```\n",
    "can be either <i>computers</i> or <i>computer</i>. If you want to extend this to more than one character, you can put the simple sequence within parenthesis, like this:\n",
    "\n",
    "```\n",
    "\\Feb(ruary)?\n",
    "```\n",
    "This would evaluate to either <i>February</i> or <i>Feb</i>."
   ]
  },
  {
   "cell_type": "markdown",
   "metadata": {},
   "source": [
    "#### Kleene Star\n",
    "\n",
    "To represent the expressions containing zero or <b>more</b> instances of the previous character, we use an <b>asterisk</b> as the kleene star. To represent the set of strings containing <i>a, ab, abb, abbb, ...</i>, the following regular expression would be used:  \n",
    "```\n",
    "\\ab*\n",
    "```\n",
    "\n",
    "#### Wildcards\n",
    "\n",
    "Wildcards are used to represent the possibility of any character and symbolized with a <b>period</b>. For example, \n",
    "\n",
    "```\n",
    "\\beg.n\n",
    "```\n",
    "From this regular expression, the strings <i>begun, begin, began,</i> etc., can be generated. \n",
    "\n",
    "#### Kleene+\n",
    "\n",
    "To represent the expressions containing at <b>least</b> one or more instances of the previous character, we use a <b>plus</b> sign. To represent the set of strings containing <i>ab, abb, abbb, ...</i>, the following regular expression would be used:  \n",
    "\n",
    "```\n",
    "\\ab+\n",
    "```"
   ]
  }
 ],
 "metadata": {
  "kernelspec": {
   "display_name": "Python 3",
   "language": "python",
   "name": "python3"
  },
  "language_info": {
   "codemirror_mode": {
    "name": "ipython",
    "version": 3
   },
   "file_extension": ".py",
   "mimetype": "text/x-python",
   "name": "python",
   "nbconvert_exporter": "python",
   "pygments_lexer": "ipython3",
   "version": "3.6.1"
  }
 },
 "nbformat": 4,
 "nbformat_minor": 2
}
